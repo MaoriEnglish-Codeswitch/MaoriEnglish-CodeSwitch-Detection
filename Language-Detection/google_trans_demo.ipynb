{
 "cells": [
  {
   "cell_type": "code",
   "execution_count": 1,
   "metadata": {},
   "outputs": [],
   "source": [
    "import pandas as pd"
   ]
  },
  {
   "cell_type": "code",
   "execution_count": 2,
   "metadata": {},
   "outputs": [],
   "source": [
    "df = pd.read_csv(\"sample_Hansard_data.csv\")"
   ]
  },
  {
   "cell_type": "code",
   "execution_count": 3,
   "metadata": {},
   "outputs": [
    {
     "data": {
      "text/html": [
       "<div>\n",
       "<style scoped>\n",
       "    .dataframe tbody tr th:only-of-type {\n",
       "        vertical-align: middle;\n",
       "    }\n",
       "\n",
       "    .dataframe tbody tr th {\n",
       "        vertical-align: top;\n",
       "    }\n",
       "\n",
       "    .dataframe thead th {\n",
       "        text-align: right;\n",
       "    }\n",
       "</style>\n",
       "<table border=\"1\" class=\"dataframe\">\n",
       "  <thead>\n",
       "    <tr style=\"text-align: right;\">\n",
       "      <th></th>\n",
       "      <th>text</th>\n",
       "      <th>label</th>\n",
       "      <th>Labels_Final</th>\n",
       "    </tr>\n",
       "  </thead>\n",
       "  <tbody>\n",
       "    <tr>\n",
       "      <th>0</th>\n",
       "      <td>Oh, yes! Is it Māpua?</td>\n",
       "      <td>P,P,P,P,M</td>\n",
       "      <td>B</td>\n",
       "    </tr>\n",
       "    <tr>\n",
       "      <th>1</th>\n",
       "      <td>It is fascinating that I am seeing a real rev ...</td>\n",
       "      <td>P,P,P,P,P,P,P,P,P,P,P,P,P,P,P,P,P,P,P,P,P,P,P,...</td>\n",
       "      <td>B</td>\n",
       "    </tr>\n",
       "    <tr>\n",
       "      <th>2</th>\n",
       "      <td>What else is the Government doing to ensure th...</td>\n",
       "      <td>P,P,P,P,P,P,P,P,P,P,P,P,P,P,P,P,P,P,P,P,P,M,P</td>\n",
       "      <td>B</td>\n",
       "    </tr>\n",
       "    <tr>\n",
       "      <th>3</th>\n",
       "      <td>First, you will note that there has been quite...</td>\n",
       "      <td>P,P,P,P,P,P,P,P,P,P,P,P,P,P,P,P,P,M,M,P,P,P,P,...</td>\n",
       "      <td>B</td>\n",
       "    </tr>\n",
       "    <tr>\n",
       "      <th>4</th>\n",
       "      <td>It is certainly my view that the Kenepuru site...</td>\n",
       "      <td>P,P,P,P,P,P,P,M,P,P,P,P,P,P,P,P,P,P,P,P,P,P,P,...</td>\n",
       "      <td>B</td>\n",
       "    </tr>\n",
       "  </tbody>\n",
       "</table>\n",
       "</div>"
      ],
      "text/plain": [
       "                                                text  \\\n",
       "0                              Oh, yes! Is it Māpua?   \n",
       "1  It is fascinating that I am seeing a real rev ...   \n",
       "2  What else is the Government doing to ensure th...   \n",
       "3  First, you will note that there has been quite...   \n",
       "4  It is certainly my view that the Kenepuru site...   \n",
       "\n",
       "                                               label Labels_Final  \n",
       "0                                          P,P,P,P,M            B  \n",
       "1  P,P,P,P,P,P,P,P,P,P,P,P,P,P,P,P,P,P,P,P,P,P,P,...            B  \n",
       "2      P,P,P,P,P,P,P,P,P,P,P,P,P,P,P,P,P,P,P,P,P,M,P            B  \n",
       "3  P,P,P,P,P,P,P,P,P,P,P,P,P,P,P,P,P,M,M,P,P,P,P,...            B  \n",
       "4  P,P,P,P,P,P,P,M,P,P,P,P,P,P,P,P,P,P,P,P,P,P,P,...            B  "
      ]
     },
     "execution_count": 3,
     "metadata": {},
     "output_type": "execute_result"
    }
   ],
   "source": [
    "df.head()"
   ]
  },
  {
   "cell_type": "code",
   "execution_count": 4,
   "metadata": {},
   "outputs": [
    {
     "data": {
      "text/html": [
       "<div>\n",
       "<style scoped>\n",
       "    .dataframe tbody tr th:only-of-type {\n",
       "        vertical-align: middle;\n",
       "    }\n",
       "\n",
       "    .dataframe tbody tr th {\n",
       "        vertical-align: top;\n",
       "    }\n",
       "\n",
       "    .dataframe thead th {\n",
       "        text-align: right;\n",
       "    }\n",
       "</style>\n",
       "<table border=\"1\" class=\"dataframe\">\n",
       "  <thead>\n",
       "    <tr style=\"text-align: right;\">\n",
       "      <th></th>\n",
       "      <th>text</th>\n",
       "      <th>label</th>\n",
       "      <th>Labels_Final</th>\n",
       "    </tr>\n",
       "  </thead>\n",
       "  <tbody>\n",
       "    <tr>\n",
       "      <th>11</th>\n",
       "      <td>Otirā Te Arawa waka, Te Arawa tangata, tēnā ko...</td>\n",
       "      <td>M,M,M,M,M,M,M,M,M,M,M,M,M,M,M</td>\n",
       "      <td>M</td>\n",
       "    </tr>\n",
       "    <tr>\n",
       "      <th>12</th>\n",
       "      <td>Kātahi te pōhēhē, kātahi te pōrangi, kātahi te...</td>\n",
       "      <td>M,M,M,M,M,M,M,M,M,M,M,M,M,M,M,M,M,M,M,M,M,M,M,...</td>\n",
       "      <td>M</td>\n",
       "    </tr>\n",
       "    <tr>\n",
       "      <th>13</th>\n",
       "      <td>Tēnā anō koutou e Ngāti Manawa, Ngāti Whare.</td>\n",
       "      <td>M,M,M,M,M,M,M,M</td>\n",
       "      <td>M</td>\n",
       "    </tr>\n",
       "    <tr>\n",
       "      <th>14</th>\n",
       "      <td>He rangatira o roto o Ngāi Tūahuriri.</td>\n",
       "      <td>M,M,M,M,M,M,M</td>\n",
       "      <td>M</td>\n",
       "    </tr>\n",
       "    <tr>\n",
       "      <th>15</th>\n",
       "      <td>Ko mātaunei te kanohi Māori o te rānei, he reo...</td>\n",
       "      <td>M,M,M,M,M,M,M,M,M,M,M,M,M,M,M,M,M,M,M,M,M,M</td>\n",
       "      <td>M</td>\n",
       "    </tr>\n",
       "  </tbody>\n",
       "</table>\n",
       "</div>"
      ],
      "text/plain": [
       "                                                 text  \\\n",
       "11  Otirā Te Arawa waka, Te Arawa tangata, tēnā ko...   \n",
       "12  Kātahi te pōhēhē, kātahi te pōrangi, kātahi te...   \n",
       "13       Tēnā anō koutou e Ngāti Manawa, Ngāti Whare.   \n",
       "14              He rangatira o roto o Ngāi Tūahuriri.   \n",
       "15  Ko mātaunei te kanohi Māori o te rānei, he reo...   \n",
       "\n",
       "                                                label Labels_Final  \n",
       "11                      M,M,M,M,M,M,M,M,M,M,M,M,M,M,M            M  \n",
       "12  M,M,M,M,M,M,M,M,M,M,M,M,M,M,M,M,M,M,M,M,M,M,M,...            M  \n",
       "13                                    M,M,M,M,M,M,M,M            M  \n",
       "14                                      M,M,M,M,M,M,M            M  \n",
       "15        M,M,M,M,M,M,M,M,M,M,M,M,M,M,M,M,M,M,M,M,M,M            M  "
      ]
     },
     "execution_count": 4,
     "metadata": {},
     "output_type": "execute_result"
    }
   ],
   "source": [
    "dfM = df[df['Labels_Final'].str.contains('M')]\n",
    "dfM"
   ]
  },
  {
   "cell_type": "code",
   "execution_count": 5,
   "metadata": {},
   "outputs": [],
   "source": [
    "##pip install googletrans\n",
    "from googletrans import Translator\n",
    "\n",
    "translator = Translator()"
   ]
  },
  {
   "cell_type": "code",
   "execution_count": 6,
   "metadata": {},
   "outputs": [
    {
     "name": "stdout",
     "output_type": "stream",
     "text": [
      "en\n"
     ]
    }
   ],
   "source": [
    "##check \n",
    "d = translator.detect('will')\n",
    "print(d.lang)"
   ]
  },
  {
   "cell_type": "code",
   "execution_count": 8,
   "metadata": {},
   "outputs": [
    {
     "name": "stdout",
     "output_type": "stream",
     "text": [
      "Otirā : mi\n",
      "Arawa : mi\n",
      "Arawa : mi\n",
      "tangata, : mi\n",
      "tēnā : mi\n",
      "koutou, : mi\n",
      "tēnā : mi\n",
      "koutou, : mi\n",
      "haere : mi\n",
      "Kātahi : mi\n",
      "pōhēhē, : mi\n",
      "kātahi : mi\n",
      "pōrangi, : mi\n",
      "kātahi : mi\n",
      "rawa : mi\n",
      "atu : mi\n",
      "tērā : mi\n",
      "kōrero! : mi\n",
      "tangata! : mi\n",
      "tangata : mi\n",
      "tū : mi\n",
      "atu : mi\n",
      "Nāna : mi\n",
      "anō : mi\n",
      "rā : mi\n",
      "Kōhanga : mi\n",
      "hanga : mi\n",
      "ōna : mi\n",
      "rā : mi\n",
      "Kaupapa : mi\n",
      "Tēnā : mi\n",
      "anō : mi\n",
      "koutou : mi\n",
      "Ngāti : mi\n",
      "Ngāti : mi\n",
      "Whare. : mi\n",
      "rangatira : mi\n",
      "roto : mi\n",
      "Tūahuriri. : mi\n",
      "mātaunei : mi\n",
      "kanohi : mi\n",
      "rānei, : mi\n",
      "tūmotuhakeana : mi\n",
      "hei : mi\n",
      "māngaimōngāhapū, : mi\n",
      "ngā : mi\n",
      "rohe : mi\n",
      "Aotearoa : mi\n"
     ]
    }
   ],
   "source": [
    "def remove_punc(string):\n",
    "    punc = '''!()-[]{};:'\", <>./?@#$%^&*_~'''\n",
    "    for ele in string:  \n",
    "        if ele in punc:  \n",
    "            string = string.replace(ele, \"\") \n",
    "    return string\n",
    " \n",
    "mrcount = 0;\n",
    "wb = []\n",
    "label_pred = []\n",
    "actual_count = 0;\n",
    "\n",
    "for index,row in dfM.iterrows():\n",
    "    y = row['text'].split()\n",
    "    dft = pd.DataFrame()\n",
    "    for i in y:\n",
    "        j = i.strip()\n",
    "      #  print(j)\n",
    "        jj = remove_punc(j)  \n",
    "        actual_count = actual_count + 1 ## we have chosed just the sentences with Maori words \n",
    "        try:\n",
    "            trans = translator.detect(str(jj))\n",
    "            la = trans.lang\n",
    "            label_pred.append(la)\n",
    "            wb.append(j)\n",
    "            if la == 'mi': ## if google predicts Maori label\n",
    "                print(j,\":\",la) # print the word and label\n",
    "                mrcount = mrcount + 1\n",
    "        except:\n",
    "            label_pred.append(0)\n",
    "            wb.append(j)\n",
    "          #  print(\"An Error\")\n",
    "    dft['words'] = wb        \n",
    "    dft['google labels'] = label_pred\n",
    "    \n",
    "        \n"
   ]
  },
  {
   "cell_type": "code",
   "execution_count": 11,
   "metadata": {},
   "outputs": [
    {
     "name": "stdout",
     "output_type": "stream",
     "text": [
      "Actual label count: 92\n"
     ]
    }
   ],
   "source": [
    "print(\"Actual label count:\", actual_count)"
   ]
  },
  {
   "cell_type": "code",
   "execution_count": 12,
   "metadata": {},
   "outputs": [
    {
     "name": "stdout",
     "output_type": "stream",
     "text": [
      "Google's predicted Maori words: 48\n"
     ]
    }
   ],
   "source": [
    "print(\"Google's predicted Maori words:\", mrcount)"
   ]
  },
  {
   "cell_type": "code",
   "execution_count": 13,
   "metadata": {},
   "outputs": [
    {
     "name": "stdout",
     "output_type": "stream",
     "text": [
      "Accuracy: (48/92)*100 = 52%\n"
     ]
    }
   ],
   "source": [
    "print(\"Accuracy: (48/92)*100 = 52%\")"
   ]
  },
  {
   "cell_type": "code",
   "execution_count": 15,
   "metadata": {},
   "outputs": [
    {
     "data": {
      "text/plain": [
       "mi     48\n",
       "en     17\n",
       "nl     11\n",
       "pt      5\n",
       "ro      4\n",
       "haw     2\n",
       "it      2\n",
       "ja      1\n",
       "lv      1\n",
       "tl      1\n",
       "Name: google labels, dtype: int64"
      ]
     },
     "execution_count": 15,
     "metadata": {},
     "output_type": "execute_result"
    }
   ],
   "source": [
    "dft['google labels'].value_counts()\n"
   ]
  },
  {
   "cell_type": "code",
   "execution_count": null,
   "metadata": {},
   "outputs": [],
   "source": [
    "Please see https://developers.google.com/admin-sdk/directory/v1/languages for the details of the language codes used by "
   ]
  }
 ],
 "metadata": {
  "kernelspec": {
   "display_name": "Python 3",
   "language": "python",
   "name": "python3"
  },
  "language_info": {
   "codemirror_mode": {
    "name": "ipython",
    "version": 3
   },
   "file_extension": ".py",
   "mimetype": "text/x-python",
   "name": "python",
   "nbconvert_exporter": "python",
   "pygments_lexer": "ipython3",
   "version": "3.9.7"
  }
 },
 "nbformat": 4,
 "nbformat_minor": 4
}
