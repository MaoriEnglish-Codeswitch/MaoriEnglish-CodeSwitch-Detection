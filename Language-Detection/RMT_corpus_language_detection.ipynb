{
  "cells": [
    {
      "cell_type": "markdown",
      "metadata": {
        "id": "tWXncYKs0bJj"
      },
      "source": [
        "![flow_diagram](https://drive.google.com/uc?export=view&id=1mIm6g1LXoH6c4YSI84xqHlk8QTia5KMS)\n"
      ]
    },
    {
      "cell_type": "markdown",
      "metadata": {
        "id": "ea6WFwf52tW8"
      },
      "source": [
        "This collab presents a demo of code-switch detection using trained BiGRU-with-attn with pre-trained non-contextual sub-word embeddings using Skipgram model with 300 dimensions. The RNN model is trained and validated on the Hansard training and validation set. \n",
        "\n",
        "Flow diagram: STEP 1 is done, we are looking at STEP 2 here."
      ]
    },
    {
      "cell_type": "code",
      "execution_count": 2,
      "metadata": {
        "id": "pOCFcK0hv519"
      },
      "outputs": [],
      "source": [
        "import os\n",
        "import pandas as pd\n",
        "from tensorflow import keras\n",
        "from tensorflow.keras.preprocessing import sequence\n",
        "import numpy as np\n",
        "import tensorflow as tf\n",
        "import re\n",
        "from tensorflow.keras.preprocessing.text import Tokenizer\n",
        "from tensorflow.keras.preprocessing.sequence import pad_sequences\n",
        "import pickle\n",
        "from sklearn.metrics import f1_score\n",
        "import string\n",
        "\n",
        "from sklearn.metrics import (\n",
        "    accuracy_score, \n",
        "    f1_score, \n",
        "    classification_report\n",
        ")\n"
      ]
    },
    {
      "cell_type": "code",
      "execution_count": 4,
      "metadata": {
        "id": "kreAE8K5x_xX"
      },
      "outputs": [],
      "source": [
        "model_path = \"bilstm-Maori-Eng-300SG.h5\"\n",
        "tokenizer_path = \"tokenizerbilstm-Maori-Eng-300SG.pickle\""
      ]
    },
    {
      "cell_type": "code",
      "execution_count": 5,
      "metadata": {
        "colab": {
          "base_uri": "https://localhost:8080/"
        },
        "id": "1vkMLvVK3k3_",
        "outputId": "56cc92e2-7a85-4b6f-8757-abd77c21fa09"
      },
      "outputs": [
        {
          "output_type": "stream",
          "name": "stdout",
          "text": [
            "Model: \"sequential\"\n",
            "_________________________________________________________________\n",
            " Layer (type)                Output Shape              Param #   \n",
            "=================================================================\n",
            " embedding (Embedding)       (None, 250, 300)          25531200  \n",
            "                                                                 \n",
            " dropout (Dropout)           (None, 250, 300)          0         \n",
            "                                                                 \n",
            " bidirectional (Bidirectiona  (None, 128)              186880    \n",
            " l)                                                              \n",
            "                                                                 \n",
            " dense (Dense)               (None, 3)                 387       \n",
            "                                                                 \n",
            "=================================================================\n",
            "Total params: 25,718,467\n",
            "Trainable params: 187,267\n",
            "Non-trainable params: 25,531,200\n",
            "_________________________________________________________________\n"
          ]
        }
      ],
      "source": [
        "## loading trained model. A summary of the model architecture is also presented.\n",
        "loaded_model = tf.keras.models.load_model(model_path)\n",
        "\n",
        "loaded_model.summary()"
      ]
    },
    {
      "cell_type": "code",
      "execution_count": 6,
      "metadata": {
        "id": "zBTWvqWs33fF"
      },
      "outputs": [],
      "source": [
        "## loading tokenizer. \n",
        "with open(tokenizer_path, 'rb') as handle:\n",
        "        tokenizer = pickle.load(handle)\n"
      ]
    },
    {
      "cell_type": "code",
      "execution_count": 7,
      "metadata": {
        "colab": {
          "base_uri": "https://localhost:8080/",
          "height": 206
        },
        "id": "Bf_hl7gbsipc",
        "outputId": "35d15d77-3fd1-448a-8f75-86b9a4b03549"
      },
      "outputs": [
        {
          "output_type": "execute_result",
          "data": {
            "text/html": [
              "\n",
              "  <div id=\"df-4344b926-02ab-4286-b01f-45bedee1dea3\">\n",
              "    <div class=\"colab-df-container\">\n",
              "      <div>\n",
              "<style scoped>\n",
              "    .dataframe tbody tr th:only-of-type {\n",
              "        vertical-align: middle;\n",
              "    }\n",
              "\n",
              "    .dataframe tbody tr th {\n",
              "        vertical-align: top;\n",
              "    }\n",
              "\n",
              "    .dataframe thead th {\n",
              "        text-align: right;\n",
              "    }\n",
              "</style>\n",
              "<table border=\"1\" class=\"dataframe\">\n",
              "  <thead>\n",
              "    <tr style=\"text-align: right;\">\n",
              "      <th></th>\n",
              "      <th>id</th>\n",
              "      <th>text</th>\n",
              "      <th>maori_words</th>\n",
              "      <th>number_of_words</th>\n",
              "    </tr>\n",
              "  </thead>\n",
              "  <tbody>\n",
              "    <tr>\n",
              "      <th>0</th>\n",
              "      <td>77657422'</td>\n",
              "      <td>any tuhoe kei roto i te whare?</td>\n",
              "      <td>['tuhoe', 'kei', 'roto', 'te', 'whare']</td>\n",
              "      <td>5</td>\n",
              "    </tr>\n",
              "    <tr>\n",
              "      <th>1</th>\n",
              "      <td>553111032'</td>\n",
              "      <td>Haere mai ki te L:Waitahananui</td>\n",
              "      <td>['haere', 'mai', 'ki', 'te']</td>\n",
              "      <td>4</td>\n",
              "    </tr>\n",
              "    <tr>\n",
              "      <th>2</th>\n",
              "      <td>585594182'</td>\n",
              "      <td>Kua hinga te totara nui o te wao tapu. Moe mai...</td>\n",
              "      <td>['kua', 'hinga', 'te', 'totara', 'nui', 'o', '...</td>\n",
              "      <td>12</td>\n",
              "    </tr>\n",
              "    <tr>\n",
              "      <th>3</th>\n",
              "      <td>829531914'</td>\n",
              "      <td>He nui tangata e heke ana ki te Pō, he iti tan...</td>\n",
              "      <td>['he', 'nui', 'tangata', 'e', 'heke', 'ana', '...</td>\n",
              "      <td>18</td>\n",
              "    </tr>\n",
              "    <tr>\n",
              "      <th>4</th>\n",
              "      <td>863218149'</td>\n",
              "      <td>&lt;user&gt; oma ika, oma ika, oma oma oma</td>\n",
              "      <td>['oma', 'ika', 'oma', 'ika', 'oma', 'oma', 'oma']</td>\n",
              "      <td>7</td>\n",
              "    </tr>\n",
              "  </tbody>\n",
              "</table>\n",
              "</div>\n",
              "      <button class=\"colab-df-convert\" onclick=\"convertToInteractive('df-4344b926-02ab-4286-b01f-45bedee1dea3')\"\n",
              "              title=\"Convert this dataframe to an interactive table.\"\n",
              "              style=\"display:none;\">\n",
              "        \n",
              "  <svg xmlns=\"http://www.w3.org/2000/svg\" height=\"24px\"viewBox=\"0 0 24 24\"\n",
              "       width=\"24px\">\n",
              "    <path d=\"M0 0h24v24H0V0z\" fill=\"none\"/>\n",
              "    <path d=\"M18.56 5.44l.94 2.06.94-2.06 2.06-.94-2.06-.94-.94-2.06-.94 2.06-2.06.94zm-11 1L8.5 8.5l.94-2.06 2.06-.94-2.06-.94L8.5 2.5l-.94 2.06-2.06.94zm10 10l.94 2.06.94-2.06 2.06-.94-2.06-.94-.94-2.06-.94 2.06-2.06.94z\"/><path d=\"M17.41 7.96l-1.37-1.37c-.4-.4-.92-.59-1.43-.59-.52 0-1.04.2-1.43.59L10.3 9.45l-7.72 7.72c-.78.78-.78 2.05 0 2.83L4 21.41c.39.39.9.59 1.41.59.51 0 1.02-.2 1.41-.59l7.78-7.78 2.81-2.81c.8-.78.8-2.07 0-2.86zM5.41 20L4 18.59l7.72-7.72 1.47 1.35L5.41 20z\"/>\n",
              "  </svg>\n",
              "      </button>\n",
              "      \n",
              "  <style>\n",
              "    .colab-df-container {\n",
              "      display:flex;\n",
              "      flex-wrap:wrap;\n",
              "      gap: 12px;\n",
              "    }\n",
              "\n",
              "    .colab-df-convert {\n",
              "      background-color: #E8F0FE;\n",
              "      border: none;\n",
              "      border-radius: 50%;\n",
              "      cursor: pointer;\n",
              "      display: none;\n",
              "      fill: #1967D2;\n",
              "      height: 32px;\n",
              "      padding: 0 0 0 0;\n",
              "      width: 32px;\n",
              "    }\n",
              "\n",
              "    .colab-df-convert:hover {\n",
              "      background-color: #E2EBFA;\n",
              "      box-shadow: 0px 1px 2px rgba(60, 64, 67, 0.3), 0px 1px 3px 1px rgba(60, 64, 67, 0.15);\n",
              "      fill: #174EA6;\n",
              "    }\n",
              "\n",
              "    [theme=dark] .colab-df-convert {\n",
              "      background-color: #3B4455;\n",
              "      fill: #D2E3FC;\n",
              "    }\n",
              "\n",
              "    [theme=dark] .colab-df-convert:hover {\n",
              "      background-color: #434B5C;\n",
              "      box-shadow: 0px 1px 3px 1px rgba(0, 0, 0, 0.15);\n",
              "      filter: drop-shadow(0px 1px 2px rgba(0, 0, 0, 0.3));\n",
              "      fill: #FFFFFF;\n",
              "    }\n",
              "  </style>\n",
              "\n",
              "      <script>\n",
              "        const buttonEl =\n",
              "          document.querySelector('#df-4344b926-02ab-4286-b01f-45bedee1dea3 button.colab-df-convert');\n",
              "        buttonEl.style.display =\n",
              "          google.colab.kernel.accessAllowed ? 'block' : 'none';\n",
              "\n",
              "        async function convertToInteractive(key) {\n",
              "          const element = document.querySelector('#df-4344b926-02ab-4286-b01f-45bedee1dea3');\n",
              "          const dataTable =\n",
              "            await google.colab.kernel.invokeFunction('convertToInteractive',\n",
              "                                                     [key], {});\n",
              "          if (!dataTable) return;\n",
              "\n",
              "          const docLinkHtml = 'Like what you see? Visit the ' +\n",
              "            '<a target=\"_blank\" href=https://colab.research.google.com/notebooks/data_table.ipynb>data table notebook</a>'\n",
              "            + ' to learn more about interactive tables.';\n",
              "          element.innerHTML = '';\n",
              "          dataTable['output_type'] = 'display_data';\n",
              "          await google.colab.output.renderOutput(dataTable, element);\n",
              "          const docLink = document.createElement('div');\n",
              "          docLink.innerHTML = docLinkHtml;\n",
              "          element.appendChild(docLink);\n",
              "        }\n",
              "      </script>\n",
              "    </div>\n",
              "  </div>\n",
              "  "
            ],
            "text/plain": [
              "           id  ... number_of_words\n",
              "0   77657422'  ...               5\n",
              "1  553111032'  ...               4\n",
              "2  585594182'  ...              12\n",
              "3  829531914'  ...              18\n",
              "4  863218149'  ...               7\n",
              "\n",
              "[5 rows x 4 columns]"
            ]
          },
          "metadata": {},
          "execution_count": 7
        }
      ],
      "source": [
        "df = pd.read_csv(\"/content/gdrive/Shareddrives/Māori Code-switching project 2020/code-switch-end-to-end-demo/rmt_sample.csv\")\n",
        "df = df.drop(['url', 'user.id', 'date', 'content_with_emojis', 'total_words', 'percent_maori',\n",
        "       'conversation_id', 'in_reply_to_user_id', 'lang', 'source_label',\n",
        "       'error', 'favourites', 'like_count', 'quote_count', 'retweet_count',\n",
        "       'reply_count', 'year', 'media', 'outlinks'],axis = 1)\n",
        "df.columns = ['id','text','maori_words','number_of_words']\n",
        "df.head()\n",
        "\n"
      ]
    },
    {
      "cell_type": "code",
      "execution_count": 8,
      "metadata": {
        "id": "lw-bF9xQsj_e"
      },
      "outputs": [],
      "source": [
        "def remove_punc(string):\n",
        "    punc = '''!()-[]{};:'\" <>./?@#$%^&*_~'''\n",
        "    for ele in string:  \n",
        "        if ele in punc:  \n",
        "            string = string.replace(ele, \"\") \n",
        "    return string\n",
        " \n",
        "wb = []\n",
        "idx = []\n",
        "\n",
        "\n",
        "for ind, row in df.iterrows():\n",
        "    x = row['text']\n",
        "    idf = row['id']\n",
        "    trial = pd.DataFrame()\n",
        "    y1 = x.split()\n",
        "    y = [remove_punc(i) for i in y1] \n",
        "    for i in y:\n",
        "        seq1= tokenizer.texts_to_sequences([i])\n",
        "        padded1 = pad_sequences(seq1, maxlen=250)\n",
        "        predict1=loaded_model.predict(padded1) \n",
        "        classw=np.argmax(predict1,axis=1)\n",
        "        if int(classw[0]) == 1:\n",
        "            wb.append(i)\n",
        "            idx.append(idf)\n",
        "        else:\n",
        "            continue\n",
        "    trial['words_pred'] = wb\n",
        "    trial['id'] = idx\n",
        "\n",
        "pred = trial.groupby('id', as_index=False).agg(lambda x: x.tolist())\n",
        "\n",
        "result = pd.merge(df, pred, on=\"id\", how=\"inner\")\n",
        "total_number_maori_words = result['number_of_words'].sum()\n",
        "\n",
        "\n",
        "r = result.drop(['text'],axis=1)\n",
        "\n",
        "r['unique_maori_words'] = r['maori_words'].str.lower().str.split(',').apply(set).sort_values()\n",
        "\n",
        "r['unique_pred_words'] = r['words_pred'].astype(str).str.lower().str.split(',').apply(set).sort_values()\n",
        "\n"
      ]
    },
    {
      "cell_type": "code",
      "execution_count": 11,
      "metadata": {
        "colab": {
          "base_uri": "https://localhost:8080/"
        },
        "id": "YtW_Uw8yFTek",
        "outputId": "48e7cd00-c7a0-4a92-f218-08d999d32e40"
      },
      "outputs": [
        {
          "output_type": "stream",
          "name": "stdout",
          "text": [
            "total number of Maori words in RMT sample: 179\n",
            "Wrong label by models: 16\n",
            "Accuracy of the model: 91%\n"
          ]
        }
      ],
      "source": [
        "wb1 = []\n",
        "idx1 = []\n",
        "\n",
        "count = 0\n",
        "\n",
        "for ind, row in r.iterrows():\n",
        "    count = count + 1\n",
        "    mw = row['unique_maori_words']\n",
        "    pw = row['unique_pred_words']\n",
        "    #print(count)\n",
        "    first_list = [remove_punc(i) for i in mw] \n",
        "    sec_list = [remove_punc(i) for i in pw]\n",
        "    idf = row['id']\n",
        "    diff = list(set(first_list) - set(sec_list))\n",
        "    t = pd.DataFrame()\n",
        "    wb1.append(diff)\n",
        "    idx1.append(idf)\n",
        "t['difference'] = wb1\n",
        "t['id'] = idx1\n",
        "\n",
        "t['length'] = t['difference'].str.len()\n",
        "\n",
        "t = t[t.length > 0]\n",
        "\n",
        "total_diff = t['length'].sum()\n",
        "\n",
        "print(\"total number of Maori words in RMT sample:\", total_number_maori_words)\n",
        "print(\"Wrong label by models:\", total_diff)\n",
        "print(\"Accuracy of the model: 91%\")"
      ]
    }
  ],
  "metadata": {
    "colab": {
      "name": "RMT_corpus_language_detection.ipynb",
      "provenance": []
    },
    "kernelspec": {
      "display_name": "Python 3",
      "name": "python3"
    },
    "language_info": {
      "name": "python"
    }
  },
  "nbformat": 4,
  "nbformat_minor": 0
}