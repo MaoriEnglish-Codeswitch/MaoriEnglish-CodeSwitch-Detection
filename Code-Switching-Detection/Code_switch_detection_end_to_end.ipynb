{
  "nbformat": 4,
  "nbformat_minor": 0,
  "metadata": {
    "colab": {
      "name": "Code-switch-detection:end-to-end.ipynb",
      "provenance": []
    },
    "kernelspec": {
      "name": "python3",
      "display_name": "Python 3"
    },
    "language_info": {
      "name": "python"
    }
  },
  "cells": [
    {
      "cell_type": "markdown",
      "source": [
        "![flow_diagram](https://drive.google.com/uc?export=view&id=1mIm6g1LXoH6c4YSI84xqHlk8QTia5KMS)\n"
      ],
      "metadata": {
        "id": "tWXncYKs0bJj"
      }
    },
    {
      "cell_type": "markdown",
      "source": [
        "This collab presents a demo of code-switch detection using trained BiGRU-with-attn with pre-trained non-contextual sub-word embeddings using Skipgram model with 300 dimensions. The RNN model is trained and validated on the Hansard training and validation set. \n",
        "\n",
        "Flow diagram: STEP 1 is done, we are looking at STEP 2 here."
      ],
      "metadata": {
        "id": "ea6WFwf52tW8"
      }
    },
    {
      "cell_type": "code",
      "execution_count": 2,
      "metadata": {
        "id": "pOCFcK0hv519"
      },
      "outputs": [],
      "source": [
        "import os\n",
        "import pandas as pd\n",
        "from tensorflow import keras\n",
        "from tensorflow.keras.preprocessing import sequence\n",
        "import numpy as np\n",
        "import tensorflow as tf\n",
        "import re\n",
        "from tensorflow.keras.preprocessing.text import Tokenizer\n",
        "from tensorflow.keras.preprocessing.sequence import pad_sequences\n",
        "import pickle\n",
        "from sklearn.metrics import f1_score\n",
        "import string\n",
        "\n",
        "from sklearn.metrics import (\n",
        "    accuracy_score, \n",
        "    f1_score, \n",
        "    classification_report\n",
        ")\n"
      ]
    },
    {
      "cell_type": "code",
      "source": [
        "model_path = \"bilstm-Maori-Eng-300SG.h5\"\n",
        "tokenizer_path = \"tokenizerbilstm-Maori-Eng-300SG.pickle\""
      ],
      "metadata": {
        "id": "kreAE8K5x_xX"
      },
      "execution_count": 6,
      "outputs": []
    },
    {
      "cell_type": "code",
      "source": [
        "## loading trained model. A summary of the model architecture is also presented.\n",
        "loaded_model = tf.keras.models.load_model(model_path)\n",
        "\n",
        "loaded_model.summary()"
      ],
      "metadata": {
        "colab": {
          "base_uri": "https://localhost:8080/"
        },
        "id": "1vkMLvVK3k3_",
        "outputId": "79145753-dedf-455f-b5aa-9a66f0c16ecc"
      },
      "execution_count": 7,
      "outputs": [
        {
          "output_type": "stream",
          "name": "stdout",
          "text": [
            "Model: \"sequential\"\n",
            "_________________________________________________________________\n",
            " Layer (type)                Output Shape              Param #   \n",
            "=================================================================\n",
            " embedding (Embedding)       (None, 250, 300)          25531200  \n",
            "                                                                 \n",
            " dropout (Dropout)           (None, 250, 300)          0         \n",
            "                                                                 \n",
            " bidirectional (Bidirectiona  (None, 128)              186880    \n",
            " l)                                                              \n",
            "                                                                 \n",
            " dense (Dense)               (None, 3)                 387       \n",
            "                                                                 \n",
            "=================================================================\n",
            "Total params: 25,718,467\n",
            "Trainable params: 187,267\n",
            "Non-trainable params: 25,531,200\n",
            "_________________________________________________________________\n"
          ]
        }
      ]
    },
    {
      "cell_type": "code",
      "source": [
        "## loading tokenizer. \n",
        "with open(tokenizer_path, 'rb') as handle:\n",
        "        tokenizer = pickle.load(handle)\n"
      ],
      "metadata": {
        "id": "zBTWvqWs33fF"
      },
      "execution_count": 8,
      "outputs": []
    },
    {
      "cell_type": "code",
      "metadata": {
        "colab": {
          "base_uri": "https://localhost:8080/"
        },
        "id": "CBezh93NWzor",
        "outputId": "0b44cd5a-a99f-4fbe-c378-17fc979cf394"
      },
      "source": [
        "## classes are [0] for Bilingual; [1] for Maori; [2] for English\n",
        "\n",
        "# A few random samples ### Change these sentences\n",
        "use_samples = ['This is a trial','The winners will be chosen by their kaitiaki (tribal guardians)','Running very late, been here almost 30 mins. Haere mai please Flyer.', 'Ko ngā ngeru ērā', 'Great workshop in Nelson today, thanks to iwi, central + regional gov, community groups, NGOs & industry who took part']\n",
        "\n",
        "for x in use_samples:\n",
        "  seq= tokenizer.texts_to_sequences([x])\n",
        "  padded = pad_sequences(seq, maxlen=250)\n",
        "  predict=loaded_model.predict(padded) \n",
        "  classes=np.argmax(predict,axis=1)\n",
        "  if classes == 0:\n",
        "    print(\" \")\n",
        "    print(\"Bilingual sentence:\",x)\n",
        "    y = x.split()\n",
        "    cw = []\n",
        "    wb = []\n",
        "    for i in y:\n",
        "      seq1= tokenizer.texts_to_sequences([i])\n",
        "      padded1 = pad_sequences(seq1, maxlen=250)\n",
        "      predict1=loaded_model.predict(padded1) \n",
        "      classw=np.argmax(predict1,axis=1)\n",
        "   #   print(\"Label for word\",\"'\",i,\"'\",\":\",\"in the above bilingual is\",classw)\n",
        "      cw.append(classw)\n",
        "      wb.append(i)\n",
        "  #  print(cw)\n",
        "  #  print(wb)\n",
        "    for c in range(len(cw)-1):\n",
        "      if cw[c]==cw[c+1]:\n",
        "        continue\n",
        "      elif cw[c]!=cw[c+1]:\n",
        "        print(\"code-switch detected after the word\",\"{\",wb[c],\"and\",wb[c+1],\"}\") \n",
        "\n"
      ],
      "execution_count": 9,
      "outputs": [
        {
          "output_type": "stream",
          "name": "stdout",
          "text": [
            " \n",
            "Bilingual sentence: The winners will be chosen by their kaitiaki (tribal guardians)\n",
            "code-switch detected after the word { their and kaitiaki }\n",
            "code-switch detected after the word { kaitiaki and (tribal }\n",
            " \n",
            "Bilingual sentence: Running very late, been here almost 30 mins. Haere mai please Flyer.\n",
            "code-switch detected after the word { mins. and Haere }\n",
            "code-switch detected after the word { mai and please }\n",
            " \n",
            "Bilingual sentence: Great workshop in Nelson today, thanks to iwi, central + regional gov, community groups, NGOs & industry who took part\n",
            "code-switch detected after the word { to and iwi, }\n",
            "code-switch detected after the word { iwi, and central }\n",
            "code-switch detected after the word { central and + }\n",
            "code-switch detected after the word { + and regional }\n",
            "code-switch detected after the word { NGOs and & }\n",
            "code-switch detected after the word { & and industry }\n"
          ]
        }
      ]
    },
    {
      "cell_type": "code",
      "source": [
        "## if we want to use a csv file with data.\n",
        "\n",
        "df = pd.read_csv(\"sample_Hansard_data.csv\")\n",
        "\n",
        "dfB = df[df['Labels_Final'].str.contains('B')] ## bilingual sentence only\n",
        "dfB = dfB.replace({'Labels_Final': {'B':0}})\n",
        "dfB['Labels_Final'] = dfB['Labels_Final'].astype(int)\n",
        "\n",
        "dfB.head()"
      ],
      "metadata": {
        "colab": {
          "base_uri": "https://localhost:8080/",
          "height": 206
        },
        "id": "1WdrLjCQ_7cY",
        "outputId": "fe4f8c32-cc9b-4cfc-9467-cd3247a68791"
      },
      "execution_count": 10,
      "outputs": [
        {
          "output_type": "execute_result",
          "data": {
            "text/html": [
              "\n",
              "  <div id=\"df-3300fbea-3458-4ebb-9d51-376fd93c1a6d\">\n",
              "    <div class=\"colab-df-container\">\n",
              "      <div>\n",
              "<style scoped>\n",
              "    .dataframe tbody tr th:only-of-type {\n",
              "        vertical-align: middle;\n",
              "    }\n",
              "\n",
              "    .dataframe tbody tr th {\n",
              "        vertical-align: top;\n",
              "    }\n",
              "\n",
              "    .dataframe thead th {\n",
              "        text-align: right;\n",
              "    }\n",
              "</style>\n",
              "<table border=\"1\" class=\"dataframe\">\n",
              "  <thead>\n",
              "    <tr style=\"text-align: right;\">\n",
              "      <th></th>\n",
              "      <th>text</th>\n",
              "      <th>label</th>\n",
              "      <th>Labels_Final</th>\n",
              "    </tr>\n",
              "  </thead>\n",
              "  <tbody>\n",
              "    <tr>\n",
              "      <th>0</th>\n",
              "      <td>Oh, yes! Is it Māpua?</td>\n",
              "      <td>P,P,P,P,M</td>\n",
              "      <td>0</td>\n",
              "    </tr>\n",
              "    <tr>\n",
              "      <th>1</th>\n",
              "      <td>It is fascinating that I am seeing a real rev ...</td>\n",
              "      <td>P,P,P,P,P,P,P,P,P,P,P,P,P,P,P,P,P,P,P,P,P,P,P,...</td>\n",
              "      <td>0</td>\n",
              "    </tr>\n",
              "    <tr>\n",
              "      <th>2</th>\n",
              "      <td>What else is the Government doing to ensure th...</td>\n",
              "      <td>P,P,P,P,P,P,P,P,P,P,P,P,P,P,P,P,P,P,P,P,P,M,P</td>\n",
              "      <td>0</td>\n",
              "    </tr>\n",
              "    <tr>\n",
              "      <th>3</th>\n",
              "      <td>First, you will note that there has been quite...</td>\n",
              "      <td>P,P,P,P,P,P,P,P,P,P,P,P,P,P,P,P,P,M,M,P,P,P,P,...</td>\n",
              "      <td>0</td>\n",
              "    </tr>\n",
              "    <tr>\n",
              "      <th>4</th>\n",
              "      <td>It is certainly my view that the Kenepuru site...</td>\n",
              "      <td>P,P,P,P,P,P,P,M,P,P,P,P,P,P,P,P,P,P,P,P,P,P,P,...</td>\n",
              "      <td>0</td>\n",
              "    </tr>\n",
              "  </tbody>\n",
              "</table>\n",
              "</div>\n",
              "      <button class=\"colab-df-convert\" onclick=\"convertToInteractive('df-3300fbea-3458-4ebb-9d51-376fd93c1a6d')\"\n",
              "              title=\"Convert this dataframe to an interactive table.\"\n",
              "              style=\"display:none;\">\n",
              "        \n",
              "  <svg xmlns=\"http://www.w3.org/2000/svg\" height=\"24px\"viewBox=\"0 0 24 24\"\n",
              "       width=\"24px\">\n",
              "    <path d=\"M0 0h24v24H0V0z\" fill=\"none\"/>\n",
              "    <path d=\"M18.56 5.44l.94 2.06.94-2.06 2.06-.94-2.06-.94-.94-2.06-.94 2.06-2.06.94zm-11 1L8.5 8.5l.94-2.06 2.06-.94-2.06-.94L8.5 2.5l-.94 2.06-2.06.94zm10 10l.94 2.06.94-2.06 2.06-.94-2.06-.94-.94-2.06-.94 2.06-2.06.94z\"/><path d=\"M17.41 7.96l-1.37-1.37c-.4-.4-.92-.59-1.43-.59-.52 0-1.04.2-1.43.59L10.3 9.45l-7.72 7.72c-.78.78-.78 2.05 0 2.83L4 21.41c.39.39.9.59 1.41.59.51 0 1.02-.2 1.41-.59l7.78-7.78 2.81-2.81c.8-.78.8-2.07 0-2.86zM5.41 20L4 18.59l7.72-7.72 1.47 1.35L5.41 20z\"/>\n",
              "  </svg>\n",
              "      </button>\n",
              "      \n",
              "  <style>\n",
              "    .colab-df-container {\n",
              "      display:flex;\n",
              "      flex-wrap:wrap;\n",
              "      gap: 12px;\n",
              "    }\n",
              "\n",
              "    .colab-df-convert {\n",
              "      background-color: #E8F0FE;\n",
              "      border: none;\n",
              "      border-radius: 50%;\n",
              "      cursor: pointer;\n",
              "      display: none;\n",
              "      fill: #1967D2;\n",
              "      height: 32px;\n",
              "      padding: 0 0 0 0;\n",
              "      width: 32px;\n",
              "    }\n",
              "\n",
              "    .colab-df-convert:hover {\n",
              "      background-color: #E2EBFA;\n",
              "      box-shadow: 0px 1px 2px rgba(60, 64, 67, 0.3), 0px 1px 3px 1px rgba(60, 64, 67, 0.15);\n",
              "      fill: #174EA6;\n",
              "    }\n",
              "\n",
              "    [theme=dark] .colab-df-convert {\n",
              "      background-color: #3B4455;\n",
              "      fill: #D2E3FC;\n",
              "    }\n",
              "\n",
              "    [theme=dark] .colab-df-convert:hover {\n",
              "      background-color: #434B5C;\n",
              "      box-shadow: 0px 1px 3px 1px rgba(0, 0, 0, 0.15);\n",
              "      filter: drop-shadow(0px 1px 2px rgba(0, 0, 0, 0.3));\n",
              "      fill: #FFFFFF;\n",
              "    }\n",
              "  </style>\n",
              "\n",
              "      <script>\n",
              "        const buttonEl =\n",
              "          document.querySelector('#df-3300fbea-3458-4ebb-9d51-376fd93c1a6d button.colab-df-convert');\n",
              "        buttonEl.style.display =\n",
              "          google.colab.kernel.accessAllowed ? 'block' : 'none';\n",
              "\n",
              "        async function convertToInteractive(key) {\n",
              "          const element = document.querySelector('#df-3300fbea-3458-4ebb-9d51-376fd93c1a6d');\n",
              "          const dataTable =\n",
              "            await google.colab.kernel.invokeFunction('convertToInteractive',\n",
              "                                                     [key], {});\n",
              "          if (!dataTable) return;\n",
              "\n",
              "          const docLinkHtml = 'Like what you see? Visit the ' +\n",
              "            '<a target=\"_blank\" href=https://colab.research.google.com/notebooks/data_table.ipynb>data table notebook</a>'\n",
              "            + ' to learn more about interactive tables.';\n",
              "          element.innerHTML = '';\n",
              "          dataTable['output_type'] = 'display_data';\n",
              "          await google.colab.output.renderOutput(dataTable, element);\n",
              "          const docLink = document.createElement('div');\n",
              "          docLink.innerHTML = docLinkHtml;\n",
              "          element.appendChild(docLink);\n",
              "        }\n",
              "      </script>\n",
              "    </div>\n",
              "  </div>\n",
              "  "
            ],
            "text/plain": [
              "                                                text  ... Labels_Final\n",
              "0                              Oh, yes! Is it Māpua?  ...            0\n",
              "1  It is fascinating that I am seeing a real rev ...  ...            0\n",
              "2  What else is the Government doing to ensure th...  ...            0\n",
              "3  First, you will note that there has been quite...  ...            0\n",
              "4  It is certainly my view that the Kenepuru site...  ...            0\n",
              "\n",
              "[5 rows x 3 columns]"
            ]
          },
          "metadata": {},
          "execution_count": 10
        }
      ]
    },
    {
      "cell_type": "code",
      "metadata": {
        "colab": {
          "base_uri": "https://localhost:8080/"
        },
        "outputId": "5a38fba5-02f6-4c66-cc0c-9d87010ef9c3",
        "id": "1BqZ0-IBsuwN"
      },
      "source": [
        "##Given that some of the words will be wrongly labelled by the model, this will also keep a tract of errors.  \n",
        "\n",
        "sentence_label_error = 0\n",
        "word_label_error = 0\n",
        "\n",
        "for ind, row in dfB.iterrows():\n",
        "  x = row['text']\n",
        "  l = row['Labels_Final']\n",
        "  lw = row['label']\n",
        "  seq= tokenizer.texts_to_sequences([x])\n",
        "  padded = pad_sequences(seq, maxlen=250)\n",
        "  predict=loaded_model.predict(padded) \n",
        "  classes=np.argmax(predict,axis=1)\n",
        "  if classes == l:\n",
        "    if classes == 0:\n",
        "      print(\" \")\n",
        "      print(\"Bilingual sentence:\",x)\n",
        "      y = x.split()\n",
        "      ly = lw.split(\",\")\n",
        "      ly = [item.replace(\"P\", \"2\") for item in ly] \n",
        "      ly = [item.replace(\"M\", \"1\") for item in ly] \n",
        "      cw = []\n",
        "      wb = []\n",
        "      for i,j in zip(y,ly):\n",
        "        seq1= tokenizer.texts_to_sequences([i])\n",
        "        padded1 = pad_sequences(seq1, maxlen=250)\n",
        "        predict1=loaded_model.predict(padded1) \n",
        "        classw=np.argmax(predict1,axis=1)\n",
        "        if int(classw[0]) == int(j):\n",
        "          cw.append(classw)\n",
        "          wb.append(i)\n",
        "        else:\n",
        "          print(\"word label error for word: {\",i,\"}\")\n",
        "          word_label_error = word_label_error + 1   \n",
        "      for c in range(len(cw)-1):\n",
        "        if cw[c]==cw[c+1]:\n",
        "          continue\n",
        "        elif cw[c]!=cw[c+1]:\n",
        "          print(\"code-switch detected after the word\",\"{\",wb[c],\"}, where the word pair is {\",wb[c],\",\",wb[c+1],\"}\") \n",
        "  else:\n",
        "    print(\"error in prediction\")\n",
        "    sentence_label_error = sentence_label_error + 1\n",
        "\n",
        "total_words = df['text'].apply(lambda x: len(str(x).split(' '))).sum()\n",
        "\n",
        "\n",
        "print(\" \")    \n",
        "print(\"------------------------------------------\")\n",
        "print(\"Total sentence label error\", sentence_label_error)\n",
        "print(\" \")\n",
        "print(\"Total number of words\",  total_words)\n",
        "print(\"Total word label error in bilingual sentences\", word_label_error)\n",
        "\n",
        "\n"
      ],
      "execution_count": 12,
      "outputs": [
        {
          "output_type": "stream",
          "name": "stdout",
          "text": [
            "error in prediction\n",
            " \n",
            "Bilingual sentence: It is fascinating that I am seeing a real rev up by this Government and other organisations taking trade visits overseas and using Māori as the front end to that.\n",
            "code-switch detected after the word { using }, where the word pair is { using , Māori }\n",
            "code-switch detected after the word { Māori }, where the word pair is { Māori , as }\n",
            " \n",
            "Bilingual sentence: What else is the Government doing to ensure that the results of research are being applied to accelerate the growth of Kiwi firms?\n",
            "word label error for word: { Kiwi }\n",
            " \n",
            "Bilingual sentence: First, you will note that there has been quite an amount of interjecting on the honourable member Hone Harawira, and on a number of occasions he has responded to the interjections and the disorderly behaviour on that side of the Chamber.\n",
            "code-switch detected after the word { member }, where the word pair is { member , Hone }\n",
            "code-switch detected after the word { Harawira, }, where the word pair is { Harawira, , and }\n",
            "error in prediction\n",
            " \n",
            "Bilingual sentence: It sets out a whole range of functions that can be carried out only by medical practitioners, in order to protect New Zealand’s health and safety.\n",
            "word label error for word: { range }\n",
            " \n",
            "Bilingual sentence: Some of them brought along slides and photographs, and it made us realise again just how dangerous it is to work in the electrical system: how dangerous it is to put in place our transmission wires and our transmission grids, and how dangerous it is to repair the electricity wires that come into our homes in the middle of the kind of weather we have had all too frequently in Wellington this year, with major gales, storms, and so forth.\n",
            "word label error for word: { too }\n",
            " \n",
            "Bilingual sentence: Tēnā koe, Mr Chair.\n",
            "code-switch detected after the word { koe, }, where the word pair is { koe, , Mr }\n",
            " \n",
            "Bilingual sentence: Only if we remember those things can that anonymous Kiwi, known only to God, lie in peace.\n",
            "word label error for word: { Kiwi, }\n",
            " \n",
            "Bilingual sentence: The bill does this by repealing the definition of the Church of England, as the purpose of the trust is to advance education for Māori, and the strict requirements in the Act are not necessary to achieve that purpose.\n",
            "code-switch detected after the word { for }, where the word pair is { for , Māori, }\n",
            "code-switch detected after the word { Māori, }, where the word pair is { Māori, , and }\n",
            " \n",
            "Bilingual sentence: Rahui Katene went on to say that the Māori Party was concerned about the impact of this bill on vulnerable people.\n",
            "code-switch detected after the word { Katene }, where the word pair is { Katene , went }\n",
            "code-switch detected after the word { the }, where the word pair is { the , Māori }\n",
            "code-switch detected after the word { Māori }, where the word pair is { Māori , Party }\n",
            " \n",
            "------------------------------------------\n",
            "Total sentence label error 2\n",
            " \n",
            "Total number of words 1693\n",
            "Total word label error in bilingual sentences 4\n"
          ]
        }
      ]
    },
    {
      "cell_type": "code",
      "source": [
        "\n"
      ],
      "metadata": {
        "id": "Lw7stpVtG_np"
      },
      "execution_count": null,
      "outputs": []
    }
  ]
}